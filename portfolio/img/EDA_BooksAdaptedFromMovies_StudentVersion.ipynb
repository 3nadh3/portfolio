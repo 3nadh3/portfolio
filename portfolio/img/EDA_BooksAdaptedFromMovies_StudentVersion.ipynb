{
 "cells": [
  {
   "cell_type": "markdown",
   "id": "46df90b6",
   "metadata": {},
   "source": [
    "\n",
    "# 📘 Exploratory Data Analysis on Books Adapted from Movies\n",
    "\n",
    "This notebook explores the dataset **MoviesAdaptedFromBooks.csv**.  \n",
    "The goal is to find some simple patterns and insights using beginner-level Python code.\n"
   ]
  },
  {
   "cell_type": "markdown",
   "id": "c6597b6e",
   "metadata": {},
   "source": [
    "\n",
    "## 📊 Dataset Explanation\n",
    "\n",
    "The dataset has the following columns:\n",
    "\n",
    "- **title** – name of the book  \n",
    "- **author** – who wrote the book  \n",
    "- **publishDate** – when the book was first published  \n",
    "- **rating** – average user rating  \n",
    "- **numRatings** – number of people who rated the book  \n",
    "- **awards** – awards won by the book  \n",
    "- **price** – cost of the book  \n",
    "- **pages** – number of pages  \n",
    "- **language** – language of the book  \n",
    "- **likedPercent** – how many people liked it (percentage)\n",
    "\n",
    "We will also create two new columns:\n",
    "\n",
    "- **publishYear** → extracted from publishDate  \n",
    "- **hasAward** → 1 if the book has an award, 0 if not\n"
   ]
  },
  {
   "cell_type": "code",
   "execution_count": null,
   "id": "5e492456",
   "metadata": {},
   "outputs": [],
   "source": [
    "\n",
    "# Import libraries\n",
    "import pandas as pd\n",
    "import matplotlib.pyplot as plt\n",
    "\n",
    "# Read the dataset\n",
    "df = pd.read_csv(\"MoviesAdaptedFromBooks.csv\")\n",
    "\n",
    "# Add new columns\n",
    "df['publishYear'] = pd.to_datetime(df['publishDate'], errors='coerce').dt.year\n",
    "df['hasAward'] = df['awards'].apply(lambda x: 1 if pd.notna(x) and len(str(x).strip()) > 0 else 0)\n",
    "\n",
    "# Show first few rows\n",
    "df.head()\n"
   ]
  },
  {
   "cell_type": "markdown",
   "id": "74b40bae",
   "metadata": {},
   "source": [
    "\n",
    "## 📈 Hypothesis 1: Newer books have higher ratings\n"
   ]
  },
  {
   "cell_type": "code",
   "execution_count": null,
   "id": "4fffe123",
   "metadata": {},
   "outputs": [],
   "source": [
    "\n",
    "# Scatter plot for publishYear vs rating\n",
    "plt.figure(figsize=(6,4))\n",
    "plt.scatter(df['publishYear'], df['rating'], alpha=0.5)\n",
    "plt.title(\"Publish Year vs Rating\")\n",
    "plt.xlabel(\"Publish Year\")\n",
    "plt.ylabel(\"Rating\")\n",
    "plt.show()\n"
   ]
  },
  {
   "cell_type": "markdown",
   "id": "72bbfd4a",
   "metadata": {},
   "source": [
    "\n",
    "**Observation:**  \n",
    "We can see how ratings change with the year of publication.\n",
    "\n",
    "**Conclusion:**  \n",
    "Newer books do not always have higher ratings. Some older books are still rated very well, so the year alone does not decide the rating.\n"
   ]
  },
  {
   "cell_type": "markdown",
   "id": "a3c0b4a5",
   "metadata": {},
   "source": [
    "\n",
    "## 📚 Hypothesis 2: Books with more pages get higher ratings\n"
   ]
  },
  {
   "cell_type": "code",
   "execution_count": null,
   "id": "9291cc36",
   "metadata": {},
   "outputs": [],
   "source": [
    "\n",
    "plt.figure(figsize=(6,4))\n",
    "plt.scatter(df['pages'], df['rating'], alpha=0.5, color='orange')\n",
    "plt.title(\"Pages vs Rating\")\n",
    "plt.xlabel(\"Number of Pages\")\n",
    "plt.ylabel(\"Rating\")\n",
    "plt.show()\n"
   ]
  },
  {
   "cell_type": "markdown",
   "id": "8a238252",
   "metadata": {},
   "source": [
    "\n",
    "**Observation:**  \n",
    "We can see how the number of pages affects the rating.\n",
    "\n",
    "**Conclusion:**  \n",
    "Books with more pages don’t always get higher ratings. Some short books are liked a lot too.\n"
   ]
  },
  {
   "cell_type": "markdown",
   "id": "55fcbc74",
   "metadata": {},
   "source": [
    "\n",
    "## 🏆 Hypothesis 3: Books with awards have higher ratings\n"
   ]
  },
  {
   "cell_type": "code",
   "execution_count": null,
   "id": "89471936",
   "metadata": {},
   "outputs": [],
   "source": [
    "\n",
    "avg_rating_award = df.groupby('hasAward')['rating'].mean()\n",
    "avg_rating_award.plot(kind='bar', color=['red', 'green'], figsize=(6,4))\n",
    "plt.title(\"Average Rating: Award vs No Award\")\n",
    "plt.xlabel(\"Has Award (1 = Yes, 0 = No)\")\n",
    "plt.ylabel(\"Average Rating\")\n",
    "plt.show()\n"
   ]
  },
  {
   "cell_type": "markdown",
   "id": "d4f724dc",
   "metadata": {},
   "source": [
    "\n",
    "**Observation:**  \n",
    "We can compare books that won awards and those that didn’t.\n",
    "\n",
    "**Conclusion:**  \n",
    "Books with awards don’t always have much higher ratings. Awards might help visibility, but not always the rating.\n"
   ]
  },
  {
   "cell_type": "markdown",
   "id": "a34c4e1d",
   "metadata": {},
   "source": [
    "\n",
    "## 💰 Hypothesis 4: Higher-rated books cost more\n"
   ]
  },
  {
   "cell_type": "code",
   "execution_count": null,
   "id": "30e53f25",
   "metadata": {},
   "outputs": [],
   "source": [
    "\n",
    "plt.figure(figsize=(6,4))\n",
    "plt.scatter(df['rating'], df['price'], alpha=0.5, color='purple')\n",
    "plt.title(\"Rating vs Price\")\n",
    "plt.xlabel(\"Rating\")\n",
    "plt.ylabel(\"Price\")\n",
    "plt.show()\n"
   ]
  },
  {
   "cell_type": "markdown",
   "id": "a26274c4",
   "metadata": {},
   "source": [
    "\n",
    "**Observation:**  \n",
    "This shows how price changes with rating.\n",
    "\n",
    "**Conclusion:**  \n",
    "There is no clear link between rating and price. Some expensive books have average ratings, while cheaper ones are well-rated.\n"
   ]
  },
  {
   "cell_type": "markdown",
   "id": "52090a26",
   "metadata": {},
   "source": [
    "\n",
    "## 👥 Hypothesis 5: Books with more readers have higher liked percentages\n"
   ]
  },
  {
   "cell_type": "code",
   "execution_count": null,
   "id": "9e47e5c6",
   "metadata": {},
   "outputs": [],
   "source": [
    "\n",
    "plt.figure(figsize=(6,4))\n",
    "plt.scatter(df['numRatings'], df['likedPercent'], alpha=0.5, color='teal')\n",
    "plt.title(\"Number of Ratings vs Liked Percentage\")\n",
    "plt.xlabel(\"Number of Ratings\")\n",
    "plt.ylabel(\"Liked Percentage\")\n",
    "plt.show()\n"
   ]
  },
  {
   "cell_type": "markdown",
   "id": "8759ca29",
   "metadata": {},
   "source": [
    "\n",
    "**Observation:**  \n",
    "We can see how the number of ratings relates to liked percent.\n",
    "\n",
    "**Conclusion:**  \n",
    "Books with many readers often have good liked percentages, but not always. Popularity doesn’t always mean everyone likes it.\n"
   ]
  },
  {
   "cell_type": "markdown",
   "id": "a9f345f4",
   "metadata": {},
   "source": [
    "\n",
    "## 🌍 Hypothesis 6: English books have higher liked percentages\n"
   ]
  },
  {
   "cell_type": "code",
   "execution_count": null,
   "id": "96331857",
   "metadata": {},
   "outputs": [],
   "source": [
    "\n",
    "avg_like_lang = df.groupby('language')['likedPercent'].mean().sort_values(ascending=False).head(10)\n",
    "avg_like_lang.plot(kind='bar', figsize=(10,6))\n",
    "plt.title(\"Average Liked Percentage by Language (Top 10)\")\n",
    "plt.xlabel(\"Language\")\n",
    "plt.ylabel(\"Average Liked Percentage\")\n",
    "plt.show()\n"
   ]
  },
  {
   "cell_type": "markdown",
   "id": "958260a2",
   "metadata": {},
   "source": [
    "\n",
    "**Observation:**  \n",
    "We can see which languages have higher liked percentages.\n",
    "\n",
    "**Conclusion:**  \n",
    "English is not at the top here. This means books in some other languages have higher liked percentages in this dataset.\n"
   ]
  },
  {
   "cell_type": "markdown",
   "id": "f67726ec",
   "metadata": {},
   "source": [
    "\n",
    "## 🏁 Final Summary\n",
    "\n",
    "We checked six simple ideas about books adapted from movies.  \n",
    "Some guesses were right, and some were not.  \n",
    "We learned that ratings and likes depend on many things — not just price, pages, or language.  \n",
    "This basic EDA helped us understand the dataset better using easy Python steps.\n"
   ]
  }
 ],
 "metadata": {},
 "nbformat": 4,
 "nbformat_minor": 5
}
