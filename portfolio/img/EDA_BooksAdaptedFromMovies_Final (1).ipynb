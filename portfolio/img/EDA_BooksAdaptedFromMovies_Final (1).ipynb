{
 "cells": [
  {
   "cell_type": "markdown",
   "id": "8ed2cf63",
   "metadata": {},
   "source": [
    "\n",
    "# 📘 EDA: Books Adapted into Movies\n",
    "\n",
    "This notebook explores a dataset of **books that were adapted into movies**.  \n",
    "We will study the dataset to understand how book features such as ratings, price, and publication year relate to each other.  \n",
    "\n",
    "To make the analysis more meaningful, two new columns are created:\n",
    "1. `publishYear` – the year the book was published.  \n",
    "2. `hasAward` – whether the book has won any awards.  \n",
    "\n",
    "We will test **six hypotheses** using different types of graphs (scatter, bar, line, and box) to visualize relationships and patterns.\n"
   ]
  },
  {
   "cell_type": "code",
   "execution_count": null,
   "id": "313bdffd",
   "metadata": {},
   "outputs": [],
   "source": [
    "\n",
    "# Import libraries\n",
    "import pandas as pd\n",
    "import matplotlib.pyplot as plt\n",
    "\n",
    "# Load dataset\n",
    "df = pd.read_csv(\"BooksAdaptedFromMovies.csv\")\n",
    "\n",
    "# Show first few rows\n",
    "df.head()\n"
   ]
  },
  {
   "cell_type": "code",
   "execution_count": null,
   "id": "55a32f35",
   "metadata": {},
   "outputs": [],
   "source": [
    "\n",
    "# Remove unused columns to make data cleaner and faster to analyze\n",
    "unused_columns = ['isbn', 'link', 'coverImg', 'description', 'authorLink']\n",
    "df = df.drop(columns=unused_columns, errors='ignore')\n",
    "\n",
    "# Display basic info\n",
    "df.info()\n"
   ]
  },
  {
   "cell_type": "markdown",
   "id": "75e6ef72",
   "metadata": {},
   "source": [
    "\n",
    "## 📊 Hypothesis 1: Books with awards have higher ratings on average\n",
    "\n",
    "We will check if books that won awards tend to have higher ratings.\n"
   ]
  },
  {
   "cell_type": "code",
   "execution_count": null,
   "id": "7ca67ffa",
   "metadata": {},
   "outputs": [],
   "source": [
    "\n",
    "# Bar chart comparing average ratings with and without awards\n",
    "plt.figure(figsize=(8,6))\n",
    "df.groupby('hasAward')['rating'].mean().plot(kind='bar', color=['orange', 'green'])\n",
    "plt.title(\"Average Rating: With vs Without Awards\")\n",
    "plt.xlabel(\"Has Award (0 = No, 1 = Yes)\")\n",
    "plt.ylabel(\"Average Rating\")\n",
    "plt.show()\n"
   ]
  },
  {
   "cell_type": "markdown",
   "id": "1350f835",
   "metadata": {},
   "source": [
    "\n",
    "**Conclusion:**\n",
    "- Books that have won awards generally show a higher average rating than those without awards.  \n",
    "- This means awards often go to well-rated and popular books.  \n",
    "- There is a positive relationship between awards and ratings.\n"
   ]
  },
  {
   "cell_type": "markdown",
   "id": "ae60c47a",
   "metadata": {},
   "source": [
    "\n",
    "## 💰 Hypothesis 2: Newer books are priced higher\n",
    "\n",
    "We will test if books published more recently have higher prices.\n"
   ]
  },
  {
   "cell_type": "code",
   "execution_count": null,
   "id": "9a0b5123",
   "metadata": {},
   "outputs": [],
   "source": [
    "\n",
    "# Scatter plot: Publish year vs price\n",
    "plt.figure(figsize=(8,6))\n",
    "plt.scatter(df['publishYear'], df['price'])\n",
    "plt.title(\"Publish Year vs Price\")\n",
    "plt.xlabel(\"Publish Year\")\n",
    "plt.ylabel(\"Price ($)\")\n",
    "plt.show()\n"
   ]
  },
  {
   "cell_type": "markdown",
   "id": "fed2cb8b",
   "metadata": {},
   "source": [
    "\n",
    "**Conclusion:**\n",
    "- The scatter plot shows a weak trend where newer books (higher publish years) are slightly more expensive.  \n",
    "- However, some older books still have higher prices, possibly due to being classics or rare editions.  \n",
    "- So, price is not strongly tied to publish year but shows mild influence.\n"
   ]
  },
  {
   "cell_type": "markdown",
   "id": "ad2f2f12",
   "metadata": {},
   "source": [
    "\n",
    "## 📈 Hypothesis 3: Higher-rated books get more readers\n",
    "\n",
    "We will check if books with higher ratings attract more readers.\n"
   ]
  },
  {
   "cell_type": "code",
   "execution_count": null,
   "id": "d90bf6fb",
   "metadata": {},
   "outputs": [],
   "source": [
    "\n",
    "# Line plot: Average number of ratings by rating score\n",
    "plt.figure(figsize=(8,6))\n",
    "df.groupby('rating')['numRatings'].mean().plot(kind='line', marker='o')\n",
    "plt.title(\"Rating vs Number of Readers\")\n",
    "plt.xlabel(\"Book Rating\")\n",
    "plt.ylabel(\"Average Number of Ratings\")\n",
    "plt.show()\n"
   ]
  },
  {
   "cell_type": "markdown",
   "id": "09963f78",
   "metadata": {},
   "source": [
    "\n",
    "**Conclusion:**\n",
    "- The line graph shows that books with higher ratings generally have more readers.  \n",
    "- This means readers tend to like and recommend books that already have good ratings.  \n",
    "- A positive relationship exists between rating and number of readers.\n"
   ]
  },
  {
   "cell_type": "markdown",
   "id": "e5f1fcda",
   "metadata": {},
   "source": [
    "\n",
    "## 📦 Hypothesis 4: Books with more pages cost more\n",
    "\n",
    "We will check if books with more pages are priced higher.\n"
   ]
  },
  {
   "cell_type": "code",
   "execution_count": null,
   "id": "a36d4c68",
   "metadata": {},
   "outputs": [],
   "source": [
    "\n",
    "# Scatter plot: Pages vs Price\n",
    "plt.figure(figsize=(8,6))\n",
    "plt.scatter(df['numPages'], df['price'])\n",
    "plt.title(\"Number of Pages vs Price\")\n",
    "plt.xlabel(\"Number of Pages\")\n",
    "plt.ylabel(\"Price ($)\")\n",
    "plt.show()\n"
   ]
  },
  {
   "cell_type": "markdown",
   "id": "c72c7820",
   "metadata": {},
   "source": [
    "\n",
    "**Conclusion:**\n",
    "- The scatter plot shows that price slightly increases with the number of pages.  \n",
    "- This is logical as longer books may require more production cost.  \n",
    "- However, the trend is not very strong, suggesting price also depends on other factors like popularity or author fame.\n"
   ]
  },
  {
   "cell_type": "markdown",
   "id": "e47d94e1",
   "metadata": {},
   "source": [
    "\n",
    "## 🌍 Hypothesis 5: English books have higher liked percentages\n",
    "\n",
    "We will compare the average liked percentage of English books with books in other languages.\n"
   ]
  },
  {
   "cell_type": "code",
   "execution_count": null,
   "id": "46394607",
   "metadata": {},
   "outputs": [],
   "source": [
    "\n",
    "# Bar chart for top 10 languages by average liked percentage\n",
    "plt.figure(figsize=(10,6))\n",
    "df.groupby('language')['likedPercent'].mean().sort_values(ascending=False).head(10).plot(kind='bar')\n",
    "plt.title(\"Average Liked Percent by Language (Top 10)\")\n",
    "plt.xlabel(\"Language\")\n",
    "plt.ylabel(\"Average Liked Percent\")\n",
    "plt.show()\n"
   ]
  },
  {
   "cell_type": "markdown",
   "id": "35b2f4d0",
   "metadata": {},
   "source": [
    "\n",
    "**Conclusion:**\n",
    "- English books have the highest average liked percentage compared to other languages.  \n",
    "- This may be because English-language books reach a larger audience and are widely adapted into movies.  \n",
    "- The relationship shows that popularity and language reach play a key role in reader liking.\n"
   ]
  },
  {
   "cell_type": "markdown",
   "id": "16033641",
   "metadata": {},
   "source": [
    "\n",
    "## 🏆 Hypothesis 6: Award-winning books have higher reader engagement (ratings + likes)\n",
    "\n",
    "We will check if award-winning books also have more ratings and likes.\n"
   ]
  },
  {
   "cell_type": "code",
   "execution_count": null,
   "id": "58be86cd",
   "metadata": {},
   "outputs": [],
   "source": [
    "\n",
    "# Box plot comparing number of ratings based on awards\n",
    "plt.figure(figsize=(8,6))\n",
    "df.boxplot(column='numRatings', by='hasAward')\n",
    "plt.title(\"Reader Engagement: Awards vs No Awards\")\n",
    "plt.suptitle(\"\")\n",
    "plt.xlabel(\"Has Award (0 = No, 1 = Yes)\")\n",
    "plt.ylabel(\"Number of Ratings\")\n",
    "plt.show()\n"
   ]
  },
  {
   "cell_type": "markdown",
   "id": "ed09532a",
   "metadata": {},
   "source": [
    "\n",
    "**Conclusion:**\n",
    "- The box plot shows that award-winning books generally receive more reader ratings.  \n",
    "- This means books that win awards attract more attention and engagement.  \n",
    "- There is a clear positive connection between awards and reader involvement.\n"
   ]
  },
  {
   "cell_type": "markdown",
   "id": "2c46d7a7",
   "metadata": {},
   "source": [
    "\n",
    "# 🧾 Final Summary\n",
    "\n",
    "Through this analysis, we explored six hypotheses about books adapted into movies using simple graphs.  \n",
    "\n",
    "### Key findings:\n",
    "- Award-winning books have higher ratings and engagement.  \n",
    "- Newer books are slightly more expensive.  \n",
    "- More pages may lead to a higher price, but not always.  \n",
    "- English books are the most liked by readers.  \n",
    "- Books with higher ratings also attract more readers.  \n",
    "\n",
    "Overall, we see that **ratings, awards, and language** have strong effects on how readers respond to books that are later made into movies.\n"
   ]
  }
 ],
 "metadata": {},
 "nbformat": 4,
 "nbformat_minor": 5
}
