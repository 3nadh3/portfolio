{
 "cells": [
  {
   "cell_type": "markdown",
   "id": "9105faa9",
   "metadata": {},
   "source": [
    "\n",
    "# 📘 EDA: Books Adapted into Movies\n",
    "\n",
    "This notebook explores a dataset of **books that were adapted into movies**.  \n",
    "We will look at parts of the dataset such as book ratings, number of pages, prices, and awards.  \n",
    "\n",
    "We will create two new columns:\n",
    "1. `publishYear` – the year the book was published.  \n",
    "2. `hasAward` – whether the book has won any awards (1 = yes, 0 = no).\n",
    "\n",
    "We will test **six simple hypotheses** using easy plots and explain each result in **short bullet points**. Each conclusion will also say which data is on the **X-axis** and the **Y-axis**.\n"
   ]
  },
  {
   "cell_type": "markdown",
   "id": "52d8e91c",
   "metadata": {},
   "source": [
    "\n",
    "**Assignment notes (from professor):**\n",
    "\n",
    "- This EDA should include at least six hypotheses related to the dataset features.  \n",
    "- Use Markdown cells to explain what the code and plots show.  \n",
    "- Each hypothesis must be a statement (not a question) and must be tested with code and plots.  \n",
    "- Include an introduction and a conclusion.  \n",
    "- This assignment is usually done with a partner — make sure you follow your course rules.\n"
   ]
  },
  {
   "cell_type": "markdown",
   "id": "b8ad0ef2",
   "metadata": {},
   "source": [
    "\n",
    "## 📊 Dataset Explanation\n",
    "\n",
    "Columns used in this notebook:\n",
    "\n",
    "- **title** – name of the book  \n",
    "- **author** – who wrote the book  \n",
    "- **publishDate** – when the book was first published (we will extract year)  \n",
    "- **rating** – average user rating (numeric)  \n",
    "- **numRatings** – number of people who rated the book (numeric)  \n",
    "- **awards** – awards won by the book (text or empty)  \n",
    "- **price** – cost of the book (numeric)  \n",
    "- **pages** – number of pages (numeric)  \n",
    "- **language** – language of the book (text)  \n",
    "- **likedPercent** – percent of readers who liked the book (numeric, 0-100)\n"
   ]
  },
  {
   "cell_type": "code",
   "execution_count": null,
   "id": "c729a08f",
   "metadata": {},
   "outputs": [],
   "source": [
    "\n",
    "# Simple imports and data loading\n",
    "import pandas as pd\n",
    "import matplotlib.pyplot as plt\n",
    "\n",
    "# Load the dataset - make sure the CSV is in the same folder as this notebook\n",
    "df = pd.read_csv(\"MoviesAdaptedFromBooks.csv\")\n",
    "\n",
    "# Create publishYear and hasAward\n",
    "df['publishYear'] = pd.to_datetime(df.get('publishDate', pd.Series()), errors='coerce').dt.year\n",
    "df['hasAward'] = df['awards'].apply(lambda x: 1 if pd.notna(x) and len(str(x).strip())>0 else 0)\n",
    "\n",
    "# Show basic info and first rows\n",
    "df.info()\n",
    "df.head()\n"
   ]
  },
  {
   "cell_type": "markdown",
   "id": "af662cc1",
   "metadata": {},
   "source": [
    "\n",
    "---\n",
    "## Hypothesis 1 (statement): Newer books have higher ratings.\n",
    "\n",
    "We will compare **publishYear** (X-axis) with **rating** (Y-axis) using a scatter plot.\n"
   ]
  },
  {
   "cell_type": "code",
   "execution_count": null,
   "id": "4b0b0d02",
   "metadata": {},
   "outputs": [],
   "source": [
    "\n",
    "# Scatter: publishYear vs rating\n",
    "plt.figure(figsize=(6,4))\n",
    "plt.scatter(df['publishYear'], df['rating'], alpha=0.5)\n",
    "plt.title(\"Publish Year (X) vs Rating (Y)\")\n",
    "plt.xlabel(\"Publish Year (X)\")\n",
    "plt.ylabel(\"Rating (Y)\")\n",
    "plt.grid(True)\n",
    "plt.show()\n"
   ]
  },
  {
   "cell_type": "markdown",
   "id": "04be06e2",
   "metadata": {},
   "source": [
    "\n",
    "**Conclusion:**  \n",
    "- X-axis: publishYear, Y-axis: rating.  \n",
    "- The points show ratings for books across years. Some recent books have good ratings, and some old books also have high ratings.  \n",
    "- There is no clear steady increase in rating as year increases. New books are not always better rated.  \n"
   ]
  },
  {
   "cell_type": "markdown",
   "id": "62c6039d",
   "metadata": {},
   "source": [
    "\n",
    "---\n",
    "## Hypothesis 2 (statement): Books with more pages get higher ratings.\n",
    "\n",
    "We will compare **pages** (X-axis) with **rating** (Y-axis).\n"
   ]
  },
  {
   "cell_type": "code",
   "execution_count": null,
   "id": "830e7952",
   "metadata": {},
   "outputs": [],
   "source": [
    "\n",
    "# Scatter: pages vs rating\n",
    "plt.figure(figsize=(6,4))\n",
    "plt.scatter(df['pages'], df['rating'], alpha=0.5)\n",
    "plt.title(\"Pages (X) vs Rating (Y)\")\n",
    "plt.xlabel(\"Number of Pages (X)\")\n",
    "plt.ylabel(\"Rating (Y)\")\n",
    "plt.grid(True)\n",
    "plt.show()\n"
   ]
  },
  {
   "cell_type": "markdown",
   "id": "8409b0cf",
   "metadata": {},
   "source": [
    "\n",
    "**Conclusion:**  \n",
    "- X-axis: pages, Y-axis: rating.  \n",
    "- The plot shows ratings for books with different page counts. Some long books have high ratings, but some short books also have high ratings.  \n",
    "- Page count alone does not clearly predict a higher rating.  \n"
   ]
  },
  {
   "cell_type": "markdown",
   "id": "2da94524",
   "metadata": {},
   "source": [
    "\n",
    "---\n",
    "## Hypothesis 3 (statement): Books that won awards have higher ratings.\n",
    "\n",
    "We will compare average rating for **hasAward** (X-axis, 0 or 1) and **rating** (Y-axis).\n"
   ]
  },
  {
   "cell_type": "code",
   "execution_count": null,
   "id": "714ff371",
   "metadata": {},
   "outputs": [],
   "source": [
    "\n",
    "# Bar: average rating by hasAward\n",
    "avg_rating_award = df.groupby('hasAward', dropna=False)['rating'].mean()\n",
    "avg_rating_award.plot(kind='bar', figsize=(6,4))\n",
    "plt.title(\"Average Rating by Award Status\")\n",
    "plt.xlabel(\"Has Award (X) - 0 = No, 1 = Yes\")\n",
    "plt.ylabel(\"Average Rating (Y)\")\n",
    "plt.grid(axis='y')\n",
    "plt.show()\n"
   ]
  },
  {
   "cell_type": "markdown",
   "id": "a9b5438d",
   "metadata": {},
   "source": [
    "\n",
    "**Conclusion:**  \n",
    "- X-axis: hasAward (0 = no award, 1 = has award), Y-axis: average rating.  \n",
    "- The bar plot compares average ratings for books with and without awards.  \n",
    "- If the bars are similar, awards do not strongly change average rating. If a bar is higher, those books are rated a bit better on average.  \n",
    "- In this dataset, the difference is small, so awards do not guarantee much higher ratings.\n"
   ]
  },
  {
   "cell_type": "markdown",
   "id": "819941fe",
   "metadata": {},
   "source": [
    "\n",
    "---\n",
    "## Hypothesis 4 (statement): Higher-rated books cost more.\n",
    "\n",
    "We will compare **rating** (X-axis) with **price** (Y-axis).\n"
   ]
  },
  {
   "cell_type": "code",
   "execution_count": null,
   "id": "a8316719",
   "metadata": {},
   "outputs": [],
   "source": [
    "\n",
    "# Scatter: rating vs price\n",
    "plt.figure(figsize=(6,4))\n",
    "plt.scatter(df['rating'], df['price'], alpha=0.5)\n",
    "plt.title(\"Rating (X) vs Price (Y)\")\n",
    "plt.xlabel(\"Rating (X)\")\n",
    "plt.ylabel(\"Price (Y)\")\n",
    "plt.grid(True)\n",
    "plt.show()\n"
   ]
  },
  {
   "cell_type": "markdown",
   "id": "3a344155",
   "metadata": {},
   "source": [
    "\n",
    "**Conclusion:**  \n",
    "- X-axis: rating, Y-axis: price.  \n",
    "- The scatter shows prices for books at different rating levels. Some high-rated books are expensive, but many are not.  \n",
    "- Price is not a strong predictor of a higher rating in this dataset.\n"
   ]
  },
  {
   "cell_type": "markdown",
   "id": "cf68344b",
   "metadata": {},
   "source": [
    "\n",
    "---\n",
    "## Hypothesis 5 (statement): Books with more readers have higher liked percentages.\n",
    "\n",
    "We will compare **numRatings** (X-axis) with **likedPercent** (Y-axis).\n"
   ]
  },
  {
   "cell_type": "code",
   "execution_count": null,
   "id": "62e863f5",
   "metadata": {},
   "outputs": [],
   "source": [
    "\n",
    "# Scatter: numRatings vs likedPercent\n",
    "plt.figure(figsize=(6,4))\n",
    "plt.scatter(df['numRatings'], df['likedPercent'], alpha=0.5)\n",
    "plt.title(\"Number of Ratings (X) vs Liked Percentage (Y)\")\n",
    "plt.xlabel(\"Number of Ratings (X)\")\n",
    "plt.ylabel(\"Liked Percentage (Y)\")\n",
    "plt.grid(True)\n",
    "plt.show()\n"
   ]
  },
  {
   "cell_type": "markdown",
   "id": "22356bd5",
   "metadata": {},
   "source": [
    "\n",
    "**Conclusion:**  \n",
    "- X-axis: numRatings, Y-axis: likedPercent.  \n",
    "- The plot shows how likedPercent changes as more people rate a book. Some popular books have high likedPercent, but not all.  \n",
    "- High reader counts do not always mean a higher liked percentage, though many popular books still have good likedPercent.\n"
   ]
  },
  {
   "cell_type": "markdown",
   "id": "04763614",
   "metadata": {},
   "source": [
    "\n",
    "---\n",
    "## Hypothesis 6 (statement): English books have higher liked percentages than other languages.\n",
    "\n",
    "We will compare **language** (X-axis) with average **likedPercent** (Y-axis) for the top 10 languages.\n"
   ]
  },
  {
   "cell_type": "code",
   "execution_count": null,
   "id": "fe84f06c",
   "metadata": {},
   "outputs": [],
   "source": [
    "\n",
    "# Bar: average likedPercent by language (top 10)\n",
    "avg_like_lang = df.groupby('language', dropna=False)['likedPercent'].mean().sort_values(ascending=False).head(10)\n",
    "avg_like_lang.plot(kind='bar', figsize=(10,6))\n",
    "plt.title(\"Average Liked Percentage by Language (Top 10)\")\n",
    "plt.xlabel(\"Language (X)\")\n",
    "plt.ylabel(\"Average Liked Percentage (Y)\")\n",
    "plt.grid(axis='y')\n",
    "plt.show()\n"
   ]
  },
  {
   "cell_type": "markdown",
   "id": "8c974c8a",
   "metadata": {},
   "source": [
    "\n",
    "**Conclusion:**  \n",
    "- X-axis: language, Y-axis: average likedPercent.  \n",
    "- The bar chart shows which languages have higher liked percentages on average.  \n",
    "- If English is not in the top bars, then English books are not the highest-liked in this dataset. Other languages may show higher likedPercent.\n"
   ]
  },
  {
   "cell_type": "markdown",
   "id": "c4b8e37b",
   "metadata": {},
   "source": [
    "\n",
    "---\n",
    "## 🏁 Final Conclusion and Submission Notes\n",
    "\n",
    "- We tested six clear hypotheses related to columns in the dataset.  \n",
    "- Each hypothesis used a simple plot and short explanation.  \n",
    "- We explained what is on the X-axis and Y-axis for each plot and gave short bullet conclusions in plain English.  \n",
    "\n",
    "**Submission:** Save this notebook and upload it to Blackboard as your EDA assignment. If you worked alone, keep written permission from your professor if required.\n"
   ]
  }
 ],
 "metadata": {},
 "nbformat": 4,
 "nbformat_minor": 5
}
